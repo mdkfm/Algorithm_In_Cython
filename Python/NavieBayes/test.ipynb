{
 "cells": [
  {
   "cell_type": "markdown",
   "source": [
    "# Big data test"
   ],
   "metadata": {
    "collapsed": false
   },
   "id": "e7aac5512a6aed49"
  },
  {
   "cell_type": "code",
   "execution_count": null,
   "outputs": [],
   "source": [
    "from sklearn.datasets import make_classification\n",
    "X, y = make_classification(n_samples=100000, n_features=10, n_classes=3, n_redundant=0,     n_informative=2, random_state=1, n_clusters_per_class=1)"
   ],
   "metadata": {
    "collapsed": false
   },
   "id": "9c3ec5cf510b714b"
  },
  {
   "cell_type": "code",
   "execution_count": null,
   "outputs": [],
   "source": [
    "from sklearn.model_selection import train_test_split\n",
    "\n",
    "X_train, X_test, y_train, y_test = train_test_split(X, y, test_size=0.4)"
   ],
   "metadata": {
    "collapsed": false
   },
   "id": "2eec99de60696684"
  },
  {
   "cell_type": "code",
   "execution_count": null,
   "outputs": [],
   "source": [
    "import naviebayes\n",
    "model = naviebayes.GaussianNB(10, 3)"
   ],
   "metadata": {
    "collapsed": false
   },
   "id": "15e2bd996d42ab78"
  },
  {
   "cell_type": "code",
   "execution_count": null,
   "outputs": [],
   "source": [
    "model.fit(X_train, y_train)"
   ],
   "metadata": {
    "collapsed": false
   },
   "id": "978e42bffbe21036"
  },
  {
   "cell_type": "code",
   "execution_count": null,
   "outputs": [],
   "source": [
    "(model.predict(X_test) == y_test).sum() / y_test.shape[0]"
   ],
   "metadata": {
    "collapsed": false
   },
   "id": "9b29c145abb6e854"
  },
  {
   "cell_type": "code",
   "execution_count": null,
   "outputs": [],
   "source": [
    "model.score(X_test, y_test)"
   ],
   "metadata": {
    "collapsed": false
   },
   "id": "48df83055f2d021b"
  },
  {
   "cell_type": "code",
   "execution_count": null,
   "outputs": [],
   "source": [
    "model.num_class"
   ],
   "metadata": {
    "collapsed": false
   },
   "id": "d8e2d1cc0b1a2480"
  },
  {
   "cell_type": "code",
   "execution_count": null,
   "outputs": [],
   "source": [
    "%timeit model.fit(X_train, y_train)"
   ],
   "metadata": {
    "collapsed": false
   },
   "id": "f5481d57d66c2c5a"
  },
  {
   "cell_type": "code",
   "execution_count": null,
   "outputs": [],
   "source": [],
   "metadata": {
    "collapsed": false
   },
   "id": "2930b5cf0ec3177d"
  }
 ],
 "metadata": {
  "kernelspec": {
   "name": "pytorch",
   "language": "python",
   "display_name": "Python (pytorch)"
  },
  "language_info": {
   "codemirror_mode": {
    "name": "ipython",
    "version": 2
   },
   "file_extension": ".py",
   "mimetype": "text/x-python",
   "name": "python",
   "nbconvert_exporter": "python",
   "pygments_lexer": "ipython2",
   "version": "2.7.6"
  }
 },
 "nbformat": 4,
 "nbformat_minor": 5
}
